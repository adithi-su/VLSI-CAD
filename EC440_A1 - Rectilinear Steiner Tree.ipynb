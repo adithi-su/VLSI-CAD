{
 "cells": [
  {
   "cell_type": "markdown",
   "metadata": {},
   "source": [
    "## EC440 : VLSI CAD Assignment -1 \n",
    "### Team Members:\n",
    "Adithi S Upadhya <br>\n",
    "191EC101 <br>\n",
    "Poorvi S.H.M. <br>\n",
    "191EC229 <br>"
   ]
  },
  {
   "cell_type": "markdown",
   "metadata": {},
   "source": [
    "<h3>Theory</h3>\n",
    "\n",
    "The rectilinear Steiner tree problem, minimum rectilinear Steiner tree problem (MRST), or rectilinear Steiner minimum tree problem (RSMT) is a variant of the geometric Steiner tree problem in the plane, in which the Euclidean distance is replaced with the rectilinear distance. \n",
    "\n",
    "The problem may be formally stated as follows: <b>given n points in the plane, it is required to interconnect them all by a shortest network which consists only of vertical and horizontal line segments.</b>\n",
    "\n",
    "Application: (physical design of electronic design automation) In VLSI circuits, wire routing is carried out by wires running only in vertical and horizontal directions, due to high computational complexity of the task. Therefore wire length is the sum of the lengths of vertical and horizontal segments, and the distance between two pins of a net is actually the rectilinear distance (\"Manhattan distance\") between the corresponding geometric points in the design plane."
   ]
  },
  {
   "cell_type": "markdown",
   "metadata": {},
   "source": [
    "<h3>Problem statement</h3>\n",
    "\n",
    "Given a set of points (vertices) (x, y), draw a minimum rectilinear steiner tree (MRST) connecting all these vertices.\n",
    "\n",
    "Graphically plot this rectilinear tree and create an output text file as detailed below.\n",
    "\n",
    "Input is given as an array of points like: {n, (x1, y1), (x2, y2), ......(xn. yn)} where\n",
    "'n' is the number of points in the array, (xi, yi) is the ith point or vertex. The input data is given in a file by the name input.txt\n",
    "\n",
    "Output file should be named as output.txt and should contain the following:\n",
    "1) number of steiner points introduced,<br>\n",
    "2) coordinates of these steiner points.<br>\n",
    "3) Print the wire length of each segment<br>\n",
    "4) Print the total wire length.<br>\n",
    "\n",
    "Document the code appropriately. Appropriate prompts and message in the input / output will get additional weightage. Test your code with appropriate data set. Prove that the code is working with the following data:{6, (0,0), (2, 8), (4, 10), (6,0), (8, 2), (10, 2)}"
   ]
  },
  {
   "cell_type": "code",
   "execution_count": 1,
   "metadata": {},
   "outputs": [],
   "source": [
    "import numpy as np \n",
    "# numpy - python library used for working with large and multidimensional arrays and matrices. \n",
    "# Documentation can be found at - https://numpy.org\n",
    "import matplotlib.pyplot as plt\n",
    "# matplotlib - library used for creating static, animated, and interactive visualizations in Python. \n",
    "# Documentation can be found at - https://matplotlib.org\n",
    "import statistics\n",
    "# This module provides functions for calculating mathematical statistics of numeric (Real-valued) data. \n",
    "# Documentation can be found at - https://docs.python.org/3/library/statistics.html"
   ]
  },
  {
   "cell_type": "code",
   "execution_count": 2,
   "metadata": {},
   "outputs": [
    {
     "name": "stdout",
     "output_type": "stream",
     "text": [
      "The input format should be: {n, (x1, y1), (x2, y2), ......(xn. yn)}\n",
      "Enter input file name eg-input.txt: inp1.txt\n"
     ]
    }
   ],
   "source": [
    "print(\"The input format should be: {n, (x1, y1), (x2, y2), ......(xn. yn)}\")\n",
    "filename = input(\"Enter input file name eg-input.txt: \")"
   ]
  },
  {
   "cell_type": "code",
   "execution_count": 3,
   "metadata": {},
   "outputs": [],
   "source": [
    "with open(filename, \"r\") as ip:\n",
    "    inp = [line.strip() for line in ip]\n",
    "\n",
    "# Removibg the '{}', n\n",
    "inp = inp[0]\n",
    "inp = inp.split(',') # The split() method splits a string into a list after breaking the given string by the specified separator.\n",
    "n = int(inp[0].split('{')[1])\n",
    "inp = inp[1:]\n",
    "inp[len(inp)-1] = inp[len(inp)-1].split('}')[0]\n",
    "\n",
    "# Removing the '(' and ')'\n",
    "pts = []    # Stores all the points, x-coordinates in even position and y-coordinates in odd position\n",
    "for i in inp:\n",
    "    i = i.strip() #returns a copy of the string with both leading and trailing characters removed (based on the string argument passed). \n",
    "    i = i.strip('(')\n",
    "    i = i.strip(')')\n",
    "    pts.append(int(i))\n",
    "    \n",
    "# Storing the points in [(x1,y1), (x2,y2),....(xn,yn)]\n",
    "points = []\n",
    "i=0\n",
    "while i!=len(pts):\n",
    "    points.append([pts[i], pts[i+1]])\n",
    "    i += 2"
   ]
  },
  {
   "cell_type": "code",
   "execution_count": 4,
   "metadata": {},
   "outputs": [],
   "source": [
    "# To find maximum x-coordinate\n",
    "def largest(arr, n):\n",
    "    max = arr[0]\n",
    "    for i in range(1, n):\n",
    "        if arr[i] > max:\n",
    "            max = arr[i]\n",
    "    return max\n",
    "\n",
    "# To find minimum y-coordinate\n",
    "def smallest(arr, n):\n",
    "    min = arr[0]\n",
    "    for i in range(1, n):\n",
    "        if arr[i] < min:\n",
    "            min = arr[i]\n",
    "    return min        "
   ]
  },
  {
   "cell_type": "code",
   "execution_count": 5,
   "metadata": {},
   "outputs": [],
   "source": [
    "y_cood = []   # Stores all the y-coordinates of the points\n",
    "x_cood = []   # Stores all the x-coordinates of the points\n",
    "for p in points:\n",
    "    y_cood.append(p[1])\n",
    "    x_cood.append(p[0])\n",
    "\n",
    "# Finding the y-coordinate that results in minimum distance from all other points \n",
    "y_trunk = statistics.median(y_cood)\n",
    "\n",
    "# Finding maximum and minimum x-coordinates\n",
    "x_max = largest(x_cood, n)\n",
    "x_min = smallest(x_cood, n)"
   ]
  },
  {
   "cell_type": "code",
   "execution_count": 6,
   "metadata": {},
   "outputs": [
    {
     "name": "stdout",
     "output_type": "stream",
     "text": [
      "28.0\n"
     ]
    }
   ],
   "source": [
    "segment_length = []  # Stores the length of each segment\n",
    "for y in y_cood:\n",
    "    segment_length.append(abs(y-y_trunk))\n",
    "\n",
    "# Finding the total wire length\n",
    "wire_length = sum(segment_length) + (x_max - x_min)\n",
    "print(wire_length)"
   ]
  },
  {
   "cell_type": "code",
   "execution_count": 7,
   "metadata": {},
   "outputs": [
    {
     "name": "stdout",
     "output_type": "stream",
     "text": [
      "4\n"
     ]
    }
   ],
   "source": [
    "steiner_points = []   # Stores all the steiner points\n",
    "\n",
    "# Checks if the Steiner point already exists in the given points and if not appends it to the list\n",
    "for p in points:\n",
    "    if([p[0], y_trunk] not in points):\n",
    "        steiner_points.append([p[0], y_trunk])\n",
    "\n",
    "# Calculates the number of steiner points\n",
    "print(len(steiner_points))"
   ]
  },
  {
   "cell_type": "code",
   "execution_count": 8,
   "metadata": {},
   "outputs": [
    {
     "data": {
      "image/png": "[encoded data removed]",
      "text/plain": [
       "<Figure size 432x288 with 1 Axes>"
      ]
     },
     "metadata": {
      "needs_background": "light"
     },
     "output_type": "display_data"
    }
   ],
   "source": [
    "xs_cood = []    # stores the x-coordinates of the steiner points\n",
    "ys_cood = []    # stores the y-coordinates of the steiner points\n",
    "for p in steiner_points:\n",
    "    xs_cood.append(p[0])\n",
    "    ys_cood.append(p[1])\n",
    "\n",
    "plt.scatter(x_cood, y_cood, label = 'Terminal Points', color = 'black')\n",
    "plt.scatter(xs_cood, ys_cood, label = 'Steiner Points', color = 'red')\n",
    "plt.grid()\n",
    "plt.legend()\n",
    "plt.show()"
   ]
  },
  {
   "cell_type": "code",
   "execution_count": 9,
   "metadata": {},
   "outputs": [],
   "source": [
    "with open('output.txt', 'a') as op:\n",
    "    print(\"-----------------------------------------------------------------------------------------------\", file=op)\n",
    "    print(\"Solution:-\", file=op)\n",
    "    print(\"No. of Steiner points is: \", len(steiner_points), file=op)\n",
    "    print(\"The coordinate of the Steiner Points: \", steiner_points, file=op)\n",
    "    print(\"Length of each wire segment: \", segment_length, file=op)\n",
    "    print(\"Total length of wire: \", wire_length, file=op)\n",
    "    print(\"------------------------------------------------------------------------------------------------\", file=op)\n",
    "op.close()"
   ]
  },
  {
   "cell_type": "code",
   "execution_count": null,
   "metadata": {},
   "outputs": [],
   "source": []
  }
 ],
 "metadata": {
  "kernelspec": {
   "display_name": "Python 3",
   "language": "python",
   "name": "python3"
  },
  "language_info": {
   "codemirror_mode": {
    "name": "ipython",
    "version": 3
   },
   "file_extension": ".py",
   "mimetype": "text/x-python",
   "name": "python",
   "nbconvert_exporter": "python",
   "pygments_lexer": "ipython3",
   "version": "3.8.5"
  }
 },
 "nbformat": 4,
 "nbformat_minor": 4
}
