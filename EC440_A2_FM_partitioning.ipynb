{
  "nbformat": 4,
  "nbformat_minor": 0,
  "metadata": {
    "colab": {
      "name": "EC440_A2-FM_partitioning.ipynb",
      "provenance": [],
      "collapsed_sections": []
    },
    "kernelspec": {
      "name": "python3",
      "display_name": "Python 3"
    },
    "language_info": {
      "name": "python"
    }
  },
  "cells": [
    {
      "cell_type": "markdown",
      "source": [
        "**VLSI CAD Assignment 2: FM ALGORITHM**\n",
        "<br>\n",
        "Submitted by: <br>\n",
        "\n",
        "\n",
        "1.   Adithi S Upadhya (191EC101)\n",
        "2.   Poorvi S.H.M (191EC229)\n",
        "\n"
      ],
      "metadata": {
        "id": "_ue6pwBCisdL"
      }
    },
    {
      "cell_type": "markdown",
      "source": [
        "### Partitioning with Fiduccia-Mattheyses\n",
        "Iterative graph partitioning heuristic <br>\n",
        "Similar to KL, but moves only a single vertex at a time <br>\n",
        "Operates in mulitple passes: <br>\n",
        "* unlock all the vertices\n",
        "* move one vertex at a time to improve the cut\n",
        "* roll back to the best configuration seen\n",
        "\n"
      ],
      "metadata": {
        "id": "OHyKtPDfVWB-"
      }
    },
    {
      "cell_type": "code",
      "source": [
        "import numpy as np\n",
        "import pandas as pd\n",
        "import matplotlib as plt \n",
        "import random\n",
        "import networkx as nx"
      ],
      "metadata": {
        "id": "ltvF-m7UWLxK"
      },
      "execution_count": 1,
      "outputs": []
    },
    {
      "cell_type": "markdown",
      "source": [
        "**Input format:** Number of blocks N, Dimension of each of the blocks (width, height), Adjacency matrix which is a N X N matrix. Each element in the adjacency matrix (i, j) gives the number of interconnects running between them. <br>\n",
        "Example- <br>\n",
        "{6, {10, 5}, {8, 6}, {4, 13}, {10, 3}, {8, 4}, {4, 1}} where the first data 6 indicates the number of blocks, then each of the six pairs of data enclosed in the flower braces specify {width, height} of the individual block.\n",
        "\n",
        "The following 6X6 adjacency matrix gives the number of edges between the blocks.\n",
        "  \n",
        "{0 1 3 2 4 2<br>\n",
        " 1 0 3 1 2 1<br>\n",
        " 3 3 0 1 1 2<br>\n",
        " 2 1 1 0 2 3<br>\n",
        " 4 2 1 2 0 1<br>\n",
        " 2 1 2 3 1 0}<br>\n"
      ],
      "metadata": {
        "id": "z7P6GjUIQUK8"
      }
    },
    {
      "cell_type": "code",
      "source": [
        "print(\"\"\"The input format should be:\n",
        "{n, (w1, y1), (w2, h2), ......(wn, hn)}\n",
        "{m00 m01 m02....m0n\n",
        " m10 m11 m12....m1n\n",
        " ..................\n",
        " ..................\n",
        " mn0 mn1 mn2....mnn}\"\"\")\n",
        "filename = input(\"Enter input file name eg-input.txt: \")"
      ],
      "metadata": {
        "id": "k3USDsthdENa",
        "colab": {
          "base_uri": "https://localhost:8080/"
        },
        "outputId": "7c62bee2-37ef-495c-f450-4ecfed72669f"
      },
      "execution_count": 2,
      "outputs": [
        {
          "name": "stdout",
          "output_type": "stream",
          "text": [
            "The input format should be:\n",
            "{n, (w1, y1), (w2, h2), ......(wn, hn)}\n",
            "{m00 m01 m02....m0n\n",
            " m10 m11 m12....m1n\n",
            " ..................\n",
            " ..................\n",
            " mn0 mn1 mn2....mnn}\n",
            "Enter input file name eg-input.txt: input.txt\n"
          ]
        }
      ]
    },
    {
      "cell_type": "code",
      "source": [
        "with open(filename, \"r\") as ip:\n",
        "    inp = [line.strip() for line in ip]\n",
        "\n",
        "# Removibg the '{}', n\n",
        "dim = inp[0]\n",
        "dim = dim.split(',') # The split() method splits a string into a list after breaking the given string by the specified separator.\n",
        "N = int(dim[0].split('{')[1])\n",
        "dim = dim[1:]\n",
        "dim[len(dim)-1] = dim[len(dim)-1].split('}')[0]\n",
        "\n",
        "# Getting the adjacency matrix\n",
        "adj = []\n",
        "for i in range(1, len(inp)):\n",
        "    adj.append(inp[i].split())\n",
        "    \n",
        "adj[0][0] = adj[0][0].split('{')[1]\n",
        "adj[N-1][N-1] = adj[N-1][N-1].split('}')[0]\n",
        "\n",
        "adj_matrix = []\n",
        "for a in adj:\n",
        "    l = []\n",
        "    for j in a:\n",
        "        l.append(int(j))\n",
        "    adj_matrix.append(list(l))\n",
        "        \n",
        "# Removing the '(' and ')'\n",
        "pts = []    # Stores all the points, x-coordinates in even position and y-coordinates in odd position\n",
        "for i in dim:\n",
        "    i = i.strip() #returns a copy of the string with both leading and trailing characters removed (based on the string argument passed). \n",
        "    i = i.strip('(')\n",
        "    i = i.strip(')')\n",
        "    pts.append(int(i))\n",
        "    \n",
        "# Storing the points in [(x1,y1), (x2,y2),....(xn,yn)]\n",
        "dim = []\n",
        "i=0\n",
        "while i!=len(pts):\n",
        "    dim.append((pts[i], pts[i+1]))\n",
        "    i += 2"
      ],
      "metadata": {
        "id": "Ssole3-ndFi3"
      },
      "execution_count": 3,
      "outputs": []
    },
    {
      "cell_type": "code",
      "source": [
        "print(N)\n",
        "print(dim)\n",
        "print(adj_matrix)"
      ],
      "metadata": {
        "colab": {
          "base_uri": "https://localhost:8080/"
        },
        "id": "xTkwnwWee6dR",
        "outputId": "4b68d76e-453a-4a94-af9a-3e1acf0144eb"
      },
      "execution_count": 4,
      "outputs": [
        {
          "output_type": "stream",
          "name": "stdout",
          "text": [
            "6\n",
            "[(10, 5), (8, 6), (4, 13), (10, 3), (8, 4), (4, 1)]\n",
            "[[0, 1, 3, 2, 4, 2], [1, 0, 3, 1, 2, 1], [3, 3, 0, 1, 1, 2], [2, 1, 1, 0, 2, 3], [4, 2, 1, 2, 0, 1], [2, 1, 2, 3, 1, 0]]\n"
          ]
        }
      ]
    },
    {
      "cell_type": "code",
      "source": [
        "#N = 6\n",
        "#dim = [(10,5),(8,6),(4,13),(10,3),(8,4),(4,1)]\n",
        "#rows,cols = (N,N)\n",
        "#adj_matrix = [[0]*cols]*rows\n",
        "#adj_matrix = [[0, 1, 3, 2, 4, 2], [1, 0, 3, 1, 2, 1],[ 3, 3, 0, 1, 1, 2],[2, 1, 1, 0, 2, 3],[4, 2, 1, 2, 0, 1],[2, 1, 2, 3, 1, 0]]"
      ],
      "metadata": {
        "id": "1k_NEVShQMX1"
      },
      "execution_count": 5,
      "outputs": []
    },
    {
      "cell_type": "code",
      "source": [
        "def random_partition(V):\n",
        "  random.shuffle(V)\n",
        "  cut = int(N/2)\n",
        "  A, B = np.sort(V[:cut]), np.sort(V[cut:])\n",
        "  print(A)\n",
        "  print(B)\n",
        "  #pairs = len(A)*len(B)\n",
        "  cut_size = 0\n",
        "  for i in A:\n",
        "    for j in B:\n",
        "      cut_size = cut_size + adj_matrix[i][j]\n",
        "  print(\"initial cut_size =\" + str(cut_size))\n",
        "  return A,B,cut_size"
      ],
      "metadata": {
        "id": "w4N5Z98hgT0M"
      },
      "execution_count": 6,
      "outputs": []
    },
    {
      "cell_type": "code",
      "source": [
        "def area(A,dim):\n",
        "  area_A = 0\n",
        "  for i in A:\n",
        "    area_A = area_A + dim[i][0]*dim[i][1]\n",
        "  return area_A"
      ],
      "metadata": {
        "id": "nQvO8aDdgwhq"
      },
      "execution_count": 7,
      "outputs": []
    },
    {
      "cell_type": "code",
      "source": [
        "def rf(area_A, area_B):\n",
        "  r = area_A / (area_A + area_B)\n",
        "  return r"
      ],
      "metadata": {
        "id": "hOMXrUVkhL3E"
      },
      "execution_count": 8,
      "outputs": []
    },
    {
      "cell_type": "code",
      "source": [
        "def is_balanced(r, area_V, area_A, max_area):\n",
        "  # Balance criterion \n",
        "  # [r.area(v) - area_MAX(v)] <= area(A) <= [r.area(v) + area_MAX(v)]\n",
        "  LHS  = r*area_V - max_area \n",
        "  RHS = r*area_V + max_area\n",
        "  if (area_A >= LHS and area_A <=RHS):\n",
        "    return True\n",
        "  else :\n",
        "    return False "
      ],
      "metadata": {
        "id": "6_mHsbYihg_e"
      },
      "execution_count": 9,
      "outputs": []
    },
    {
      "cell_type": "code",
      "source": [
        "def calculate_gain(A,B,c,adj_matrix): #partition A, B and block c \n",
        "  FS = 0 # FS(i) = number of nets that have i as the only cell in partition P containining i \n",
        "  TE = 0 # TE(i) = number of nets containing cell i and are entirely located in partition P containining i \n",
        "  if c in A:\n",
        "    pB = B\n",
        "    pA = A\n",
        "  else :\n",
        "    pB = A\n",
        "    pA = B\n",
        "  for j in pB: \n",
        "    if adj_matrix[c][j]!=0: \n",
        "      # block in partition B is connected to block c\n",
        "      # check if its connected to any other block in partition A\n",
        "      for i in pA:\n",
        "        if i!=c and adj_matrix[i][j] == 0:\n",
        "          FS = FS + 1\n",
        "  for i in pA:\n",
        "    if i!=c and adj_matrix[i][c]!=0:\n",
        "      TE = TE + 1\n",
        "  gain = FS - TE\n",
        "  return gain"
      ],
      "metadata": {
        "id": "2OQ2g9ekk-Zx"
      },
      "execution_count": 10,
      "outputs": []
    },
    {
      "cell_type": "code",
      "source": [
        "def calculate_parameters(N, dim, adj_matrix):\n",
        "    V = list(range(N)) #listing all the vertices\n",
        "    # Dividing nodes into 2 random groups A and B \n",
        "    A,B,cut_size = random_partition(V)\n",
        "    # ratio factor r = [area(A)]/[area(A)+area(B)] where area(A), area(B) are the areas of the respective partitions \n",
        "    area_A = area(A,dim) \n",
        "    area_B = area(B,dim)\n",
        "    AREA = []\n",
        "    for i in range(len(dim)):\n",
        "      AREA.append(dim[i][0] * dim[i][1])\n",
        "    area_V = 0 \n",
        "    max_area = max(AREA)\n",
        "    area_V = area(V,dim)\n",
        "    r = rf(area_A, area_B)\n",
        "    return V,A,B,cut_size,area_A,area_B,area_V,max_area,r,AREA"
      ],
      "metadata": {
        "id": "1VFNSJVrvuct"
      },
      "execution_count": 11,
      "outputs": []
    },
    {
      "cell_type": "code",
      "source": [
        "def FM1(N, dim, adj_matrix,V,A,B,cut_size,area_A,area_B,area_V,max_area,r,AREA,locked):\n",
        "  # Step 2: Calculate gains\n",
        "  # gain = FS - TE\n",
        "  gain = []\n",
        "  for i in V:\n",
        "    g = calculate_gain(A,B,i,adj_matrix)\n",
        "    gain.append(g)\n",
        "  # Step 3: find the base block, the one with max gain \n",
        "  sols = []\n",
        "  min_area = max(AREA)\n",
        "  temp = 0\n",
        "  for i in range(len(gain)):\n",
        "    if gain[i] == max(gain):\n",
        "      sols.append(i)\n",
        "  min = AREA[sols[0]]\n",
        "  exchange = sols[0]\n",
        "  for i in sols:\n",
        "    #check balance criterion for each \n",
        "    if i in A:\n",
        "      temp = area_A - AREA[i]\n",
        "    else:\n",
        "      temp = area_A + AREA[i]\n",
        "    if is_balanced(r, area_V, area_A, max_area) and temp <= min:\n",
        "      exchange = i\n",
        "      min = temp\n",
        "  locked.append(exchange)\n",
        "  if exchange in A:\n",
        "    A.remove(exchange)\n",
        "    B.append(exchange)\n",
        "  else:\n",
        "    A.append(exchange)\n",
        "    B.remove(exchange)\n",
        "  return gain[exchange]"
      ],
      "metadata": {
        "id": "N-5KqyE2XOHM"
      },
      "execution_count": 12,
      "outputs": []
    },
    {
      "cell_type": "code",
      "source": [
        "def FM_partitioning(N,dim,adj_matrix):\n",
        "    V,a,b,cut_size,area_A,area_B,area_V,max_area,r,AREA = calculate_parameters(N, dim, adj_matrix)\n",
        "    # Step 1: Balance criterion to be satisfied\n",
        "    if is_balanced(r, area_V, area_A, max_area) == False:\n",
        "      while is_balanced(r, area_V, area_A, max_area) == False:\n",
        "        V,a,b,cut_size,area_A,area_B,area_V,max_area,r = calculate_parameters(N, dim, adj_matrix)\n",
        "    locked = []\n",
        "    iter_gain = []\n",
        "    A = a.tolist()\n",
        "    B = b.tolist()\n",
        "    while len(locked)!=N:\n",
        "      # update and run\n",
        "      g = FM1(N, dim, adj_matrix,V,A,B,cut_size,area_A,area_B,area_V,max_area,r,AREA,locked)\n",
        "      iter_gain.append(g)\n",
        "    gain_sum = []\n",
        "    l = 0\n",
        "    for i in range(len(iter_gain)):\n",
        "      l = l + iter_gain[i]\n",
        "      gain_sum.append(l)\n",
        "    # select max cummulative gain\n",
        "    minArea = max_area # initialising to high value\n",
        "    aA = area(a,dim)\n",
        "    aB = area(b,dim)\n",
        "    newA = a.tolist()\n",
        "    newB = b.tolist()\n",
        "    ans = 0\n",
        "    for i in range(len(gain_sum)):\n",
        "      if gain_sum[i] == max(gain_sum):\n",
        "        for j in range(i):\n",
        "          if j in a:\n",
        "            aA = aA - dim[j][0] * dim[j][1]\n",
        "          else:\n",
        "            aA = aA + dim[j][0] * dim[j][1]\n",
        "        if aA < minArea:\n",
        "          minArea = aA\n",
        "          ans = i\n",
        "    print(ans)\n",
        "    # final partitions\n",
        "    for i in range(ans+1):\n",
        "      if i in a:\n",
        "        newA.remove(i)\n",
        "        newB.append(i)\n",
        "      else:\n",
        "        newA.append(i)\n",
        "        newB.remove(i)\n",
        "    cut_size = 0\n",
        "    for i in newA:\n",
        "      for j in newB:\n",
        "        cut_size = cut_size + adj_matrix[i][j]\n",
        "    print(\"Final partition: A=\",newA,\"\", \"B=\", newB,\"\", \"cut size=\",cut_size)\n",
        "    return newA,newB,cut_size"
      ],
      "metadata": {
        "id": "Ac7XKsVzC5KI"
      },
      "execution_count": 13,
      "outputs": []
    },
    {
      "cell_type": "markdown",
      "source": [
        "Running mulitple iterations to get the combination with minimum cut size and minimum ratio factor :"
      ],
      "metadata": {
        "id": "EAYmXvA-d1vt"
      }
    },
    {
      "cell_type": "code",
      "source": [
        "fm_tuples = []\n",
        "run_time = N * (N-1)/2 \n",
        "i = 0\n",
        "while i!=run_time:\n",
        "  print(\"ITERATION #\", i)\n",
        "  newA,newB,cut_size = FM_partitioning(N,dim,adj_matrix)\n",
        "  new_areaA = area(newA,dim)\n",
        "  new_areaB = area(newB,dim)\n",
        "  new_rf = rf(new_areaA, new_areaB)\n",
        "  fm_tuples.append((cut_size,new_rf,newA,newB))\n",
        "  i = i+1\n",
        "res = min(fm_tuples)\n",
        "grp1 = res[2] \n",
        "grp2 = res[3]\n",
        "G = nx.Graph()\n",
        "for i in range(N):\n",
        "  for j in range(N):\n",
        "    if(adj_matrix[i][j]!=0):\n",
        "      G.add_edge(i,j)\n",
        "for n in G.nodes():\n",
        "  G.nodes[n]['color'] = 'b' if n in grp1 else 'g'\n",
        "colors = [node[1]['color'] for node in G.nodes(data=True)]\n",
        "nx.draw(G, with_labels=True, node_color=colors)\n"
      ],
      "metadata": {
        "colab": {
          "base_uri": "https://localhost:8080/",
          "height": 1000
        },
        "id": "VY-ATX51NTIq",
        "outputId": "190d5fe4-4327-41fc-874c-5a57b177c3be"
      },
      "execution_count": 15,
      "outputs": [
        {
          "output_type": "stream",
          "name": "stdout",
          "text": [
            "ITERATION # 0\n",
            "[0 2 3]\n",
            "[1 4 5]\n",
            "initial cut_size =19\n",
            "0\n",
            "Final partition: A= [2, 3]  B= [1, 4, 5, 0]  cut size= 17\n",
            "ITERATION # 1\n",
            "[0 2 3]\n",
            "[1 4 5]\n",
            "initial cut_size =19\n",
            "0\n",
            "Final partition: A= [2, 3]  B= [1, 4, 5, 0]  cut size= 17\n",
            "ITERATION # 2\n",
            "[3 4 5]\n",
            "[0 1 2]\n",
            "initial cut_size =16\n",
            "0\n",
            "Final partition: A= [3, 4, 5, 0]  B= [1, 2]  cut size= 12\n",
            "ITERATION # 3\n",
            "[0 1 5]\n",
            "[2 3 4]\n",
            "initial cut_size =21\n",
            "0\n",
            "Final partition: A= [1, 5]  B= [2, 3, 4, 0]  cut size= 15\n",
            "ITERATION # 4\n",
            "[0 3 4]\n",
            "[1 2 5]\n",
            "initial cut_size =15\n",
            "0\n",
            "Final partition: A= [3, 4]  B= [1, 2, 5, 0]  cut size= 15\n",
            "ITERATION # 5\n",
            "[0 2 3]\n",
            "[1 4 5]\n",
            "initial cut_size =19\n",
            "0\n",
            "Final partition: A= [2, 3]  B= [1, 4, 5, 0]  cut size= 17\n",
            "ITERATION # 6\n",
            "[0 1 3]\n",
            "[2 4 5]\n",
            "initial cut_size =21\n",
            "0\n",
            "Final partition: A= [1, 3]  B= [2, 4, 5, 0]  cut size= 15\n",
            "ITERATION # 7\n",
            "[1 2 5]\n",
            "[0 3 4]\n",
            "initial cut_size =15\n",
            "0\n",
            "Final partition: A= [1, 2, 5, 0]  B= [3, 4]  cut size= 15\n",
            "ITERATION # 8\n",
            "[0 4 5]\n",
            "[1 2 3]\n",
            "initial cut_size =17\n",
            "0\n",
            "Final partition: A= [4, 5]  B= [1, 2, 3, 0]  cut size= 17\n",
            "ITERATION # 9\n",
            "[0 4 5]\n",
            "[1 2 3]\n",
            "initial cut_size =17\n",
            "0\n",
            "Final partition: A= [4, 5]  B= [1, 2, 3, 0]  cut size= 17\n",
            "ITERATION # 10\n",
            "[1 2 5]\n",
            "[0 3 4]\n",
            "initial cut_size =15\n",
            "0\n",
            "Final partition: A= [1, 2, 5, 0]  B= [3, 4]  cut size= 15\n",
            "ITERATION # 11\n",
            "[1 2 3]\n",
            "[0 4 5]\n",
            "initial cut_size =17\n",
            "0\n",
            "Final partition: A= [1, 2, 3, 0]  B= [4, 5]  cut size= 17\n",
            "ITERATION # 12\n",
            "[0 1 2]\n",
            "[3 4 5]\n",
            "initial cut_size =16\n",
            "0\n",
            "Final partition: A= [1, 2]  B= [3, 4, 5, 0]  cut size= 12\n",
            "ITERATION # 13\n",
            "[0 2 5]\n",
            "[1 3 4]\n",
            "initial cut_size =17\n",
            "0\n",
            "Final partition: A= [2, 5]  B= [1, 3, 4, 0]  cut size= 15\n",
            "ITERATION # 14\n",
            "[0 3 5]\n",
            "[1 2 4]\n",
            "initial cut_size =16\n",
            "0\n",
            "Final partition: A= [3, 5]  B= [1, 2, 4, 0]  cut size= 12\n"
          ]
        },
        {
          "output_type": "display_data",
          "data": {
            "image/png": "[encoded data removed]",
            "text/plain": [
              "<Figure size 432x288 with 1 Axes>"
            ]
          },
          "metadata": {}
        }
      ]
    },
    {
      "cell_type": "code",
      "source": [
        "print(\"Combination with minimum cut size and ratio factor\", \"\\n\", \"Partition A = \", res[2], \" \", \"Partition B = \", res[3], \" \", \"cut size\", cut_size, \" \", \"ratio-factor\",new_rf)"
      ],
      "metadata": {
        "colab": {
          "base_uri": "https://localhost:8080/"
        },
        "id": "CZIHKfuWdnLC",
        "outputId": "68325d53-b146-4243-fc32-2480cc9d30b8"
      },
      "execution_count": 16,
      "outputs": [
        {
          "output_type": "stream",
          "name": "stdout",
          "text": [
            "Combination with minimum cut size and ratio factor \n",
            " Partition A =  [3, 5]   Partition B =  [1, 2, 4, 0]   cut size 12   ratio-factor 0.1574074074074074\n"
          ]
        }
      ]
    },
    {
      "cell_type": "markdown",
      "source": [
        "Plotting the rectangular blocks according to the above partition:"
      ],
      "metadata": {
        "id": "OyU797uNeiPZ"
      }
    },
    {
      "cell_type": "code",
      "source": [
        "import matplotlib.pyplot as plt\n",
        "from matplotlib.patches import Rectangle\n",
        "# hardcoded for the current case\n",
        "#define Matplotlib figure and axis\n",
        "fig, ax = plt.subplots()\n",
        "ax.plot([0, 10],[0, 10], color = 'white', lw=0.1)\n",
        "#add rectangle to plot\n",
        "ax.add_patch(Rectangle((0, 0), 6, 8, edgecolor = 'red', fill = False, lw=3))\n",
        "ax.annotate(\"Block 1\", (3, 4), color='red', weight='bold', fontsize=8, ha='center', va='center')\n",
        "ax.add_patch(Rectangle((6, 0), 4, 8, edgecolor = 'red', fill = False, lw=3))\n",
        "ax.annotate(\"Block 4\", (8, 4), color='red', weight='bold', fontsize=8, ha='center', va='center')\n",
        "ax.add_patch(Rectangle((10, 0), 4, 13, edgecolor = 'red', fill = False, lw=3))\n",
        "ax.annotate(\"Block 2\", (12, 6.5), color='red', weight='bold', fontsize=8, ha='center', va='center')\n",
        "ax.add_patch(Rectangle((0, 8), 10, 5, edgecolor = 'red', fill = False, lw=3))\n",
        "ax.annotate(\"Block 0\", (5, 10.5), color='red', weight='bold', fontsize=8, ha='center', va='center')\n",
        "ax.add_patch(Rectangle((0, 13), 10, 3, edgecolor = 'black', fill = False, lw=3))\n",
        "ax.annotate(\"Block 3\", (5, 14.5), color='black', weight='bold', fontsize=8, ha='center', va='center')\n",
        "ax.add_patch(Rectangle((10, 13), 4, 1, edgecolor = 'black', fill = False, lw=3))\n",
        "ax.annotate(\"Block 5\", (12, 13.5), color='black', weight='bold', fontsize=8, ha='center', va='center')\n",
        "ax.add_patch(Rectangle((-0.1, -0.1), 14.15, 16.15, edgecolor = 'green', fill = False, lw=1.5, ls = '--'))\n",
        "#plt.legend()\n",
        "#display plot\n",
        "plt.show()    "
      ],
      "metadata": {
        "id": "oQHh4PffdD65",
        "colab": {
          "base_uri": "https://localhost:8080/",
          "height": 265
        },
        "outputId": "8dc81783-0edb-41a4-ccd6-72a43da5bffc"
      },
      "execution_count": 17,
      "outputs": [
        {
          "output_type": "display_data",
          "data": {
            "image/png": "[encoded data removed]",
            "text/plain": [
              "<Figure size 432x288 with 1 Axes>"
            ]
          },
          "metadata": {
            "needs_background": "light"
          }
        }
      ]
    },
    {
      "cell_type": "code",
      "source": [
        ""
      ],
      "metadata": {
        "id": "TAv5Cy6JeuI2"
      },
      "execution_count": null,
      "outputs": []
    }
  ]
}